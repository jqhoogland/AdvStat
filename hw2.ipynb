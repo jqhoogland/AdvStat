{
 "cells": [
  {
   "cell_type": "code",
   "execution_count": 11,
   "metadata": {},
   "outputs": [],
   "source": [
    "import numpy as np\n",
    "import scipy\n",
    "import matplotlib.pyplot as plt"
   ]
  },
  {
   "cell_type": "markdown",
   "metadata": {},
   "source": [
    "# Exercise 4\n",
    "\n",
    "## (a)\n",
    "\n",
    "$$ TS(k) = -2 \\ln \\frac{L(0|k)}{L(\\hat{\\mu}_S|k)} $$\n",
    "\n",
    "$$ TS(k) = -2 \\ln \\left(\\frac{\\mu_B^k e^{-\\mu_B}}{k!}\\right) \\left(\\frac{(\\mu_B+\\hat{\\mu}_S)^k e^{-(\\mu_B+\\hat{\\mu}_S)}}{k!}\\right)^{-1} $$\n",
    "\n",
    "$$ TS(k) = -2 \\ln \\frac{\\mu_B^ke^{\\hat{\\mu}_S}}{(\\mu_B+\\hat\\mu_S)^k} $$\n",
    "\n",
    "Knowing that $\\hat\\mu_S = k-\\mu_B$\n",
    "\n",
    "$$ TS(k) = -2 \\ln \\frac{\\mu_B^k}{k^k} e^{k-\\mu_B}= -2 \\left( k \\ln \\frac{\\mu_B}{k} + k - \\mu_B\\right)$$\n"
   ]
  },
  {
   "cell_type": "code",
   "execution_count": 4,
   "metadata": {},
   "outputs": [
    {
     "name": "stdout",
     "output_type": "stream",
     "text": [
      "('95.4 percent level is at', 1.6188758248682005)\n"
     ]
    }
   ],
   "source": [
    "def get_percentile (mu_b, mu_s=0, n_samples=10000, percentile=95.4):\n",
    "    def get_test_statistic (k): \n",
    "        if k != 0 :\n",
    "            return -2 * (k * np.log(mu_b/k) + k - mu_b)\n",
    "        else:\n",
    "            return 2 * mu_b\n",
    "\n",
    "    samples = scipy.random.poisson((mu_b + mu_s), n_samples)\n",
    "    test_statistics = np.zeros(n_samples)\n",
    "    \n",
    "    for i in range(n_samples):\n",
    "        test_statistics[i] = get_test_statistic(samples[i])\n",
    "    \n",
    "    return np.percentile(test_statistics, percentile)\n",
    "    \n",
    "    \n",
    "percentile_954 = get_percentile(0.2)\n",
    "print(\"95.4 percent level is at\", percentile_954)"
   ]
  },
  {
   "cell_type": "markdown",
   "metadata": {},
   "source": [
    "## (b)"
   ]
  },
  {
   "cell_type": "code",
   "execution_count": 13,
   "metadata": {},
   "outputs": [
    {
     "data": {
      "image/png": "[encoded data removed]",
      "text/plain": [
       "<Figure size 432x288 with 1 Axes>"
      ]
     },
     "metadata": {
      "needs_background": "light"
     },
     "output_type": "display_data"
    }
   ],
   "source": [
    "def get_percentiles_for_mu_bs (mu_bs, mu_s=0, n_samples_per_mu_b=1000, percentile=95.4):\n",
    "    percentiles = np.zeros(mu_bs.size)\n",
    "    \n",
    "    for i, mu_b in enumerate(mu_bs):\n",
    "        percentiles[i] = get_percentile(mu_b, mu_s, n_samples_per_mu_b, percentile)\n",
    "        \n",
    "    return percentiles\n",
    "\n",
    "mu_bs = np.logspace(-1, 3, 10)\n",
    "percentile_954s = get_percentiles_for_mu_bs(mu_bs)\n",
    "\n",
    "plt.plot(mu_bs, percentile_954s)\n",
    "plt.xscale(\"log\")"
   ]
  },
  {
   "cell_type": "markdown",
   "metadata": {},
   "source": [
    "We see Wilk's theorem only becomes reliable (i.e. our percentile approaches that which we would predict with chi_squared with 1 degrees of freedom) for $mu_B$ (the number of background photons) on the order of $O(10^0)$ to $O(10^1)$.\n",
    "\n",
    "# Exercise 5\n",
    "\n",
    "OK so the next few bits of code could have been optimized more (all of it would have fit in one loop). But now it's easier to read. Live with it.\n"
   ]
  },
  {
   "cell_type": "code",
   "execution_count": 47,
   "metadata": {},
   "outputs": [
    {
     "name": "stdout",
     "output_type": "stream",
     "text": [
      "('First data set: ', array([12.98458223, 15.94341997, 18.5339249 , 22.31926006, 24.44013685,\n",
      "       27.69936101, 30.83832383, 34.84752691, 36.39740281, 39.07496061]))\n"
     ]
    }
   ],
   "source": [
    "def get_sample_series_of_f(a, xs):\n",
    "    return 3 * xs + np.random.normal(a, 1, xs.size)\n",
    "\n",
    "def get_expectation_series_of_f(a, xs):\n",
    "    return 3 * xs + a\n",
    "\n",
    "def gen_data_sets(a=10, n_data_sets=1000, n_samples_per_set=10):\n",
    "    data_sets = np.zeros((n_data_sets, n_samples_per_set))\n",
    "\n",
    "    for i in range(n_data_sets):\n",
    "        # Create the data sets\n",
    "        data_sets[i] = get_sample_series_of_f(a, np.arange(1, 1+n_samples_per_set))\n",
    "        \n",
    "    return data_sets\n",
    "\n",
    "DATA_SETS = gen_data_sets()\n",
    "\n",
    "print(\"First data set: \", DATA_SETS[0])"
   ]
  },
  {
   "cell_type": "code",
   "execution_count": 65,
   "metadata": {},
   "outputs": [],
   "source": [
    "def get_chi_squared(data_set, expectation_set):\n",
    "    return np.sum((np.power(data_set - expectation_set, 2)) / np.var(data_set, axis=0))\n",
    "\n",
    "def get_min_chi_and_a_vals(data_sets):\n",
    "    a_vals_to_try = np.arange(9, 11, 0.1) # We know it will be close to 10\n",
    "    a_mins = np.zeros(data_sets.shape[0])\n",
    "    chi_mins = np.zeros(data_sets.shape[0])\n",
    "  \n",
    "    for i in range(data_sets.shape[0]):\n",
    "        # Calculate the chi squared values\n",
    "        chi_squared = np.zeros(a_vals_to_try.size)\n",
    "        for j, a_val in enumerate(a_vals_to_try):\n",
    "            expectation_set = get_expectation_series_of_f(a_val, np.arange(1, 11))\n",
    "            chi_squared[j] = get_chi_squared(data_sets, expectation_set)\n",
    "\n",
    "        # Identify the minimum chi squared value\n",
    "        min_chi_idx = np.argmin(chi_squared)\n",
    "        a_mins[i], chi_mins[i] = a_vals_to_try[min_chi_idx], chi_squared[min_chi_idx]\n",
    "        \n",
    "    return chi_mins, a_mins\n",
    "   \n",
    "CHI_MINS, A_MINS = get_min_chi_and_a_vals(DATA_SETS)"
   ]
  },
  {
   "cell_type": "code",
   "execution_count": 66,
   "metadata": {},
   "outputs": [
    {
     "name": "stdout",
     "output_type": "stream",
     "text": [
      "[10. 10. 10. 10. 10. 10. 10. 10. 10. 10. 10. 10. 10. 10. 10. 10. 10. 10.\n",
      " 10. 10. 10. 10. 10. 10. 10. 10. 10. 10. 10. 10. 10. 10. 10. 10. 10. 10.\n",
      " 10. 10. 10. 10. 10. 10. 10. 10. 10. 10. 10. 10. 10. 10. 10. 10. 10. 10.\n",
      " 10. 10. 10. 10. 10. 10. 10. 10. 10. 10. 10. 10. 10. 10. 10. 10. 10. 10.\n",
      " 10. 10. 10. 10. 10. 10. 10. 10. 10. 10. 10. 10. 10. 10. 10. 10. 10. 10.\n",
      " 10. 10. 10. 10. 10. 10. 10. 10. 10. 10. 10. 10. 10. 10. 10. 10. 10. 10.\n",
      " 10. 10. 10. 10. 10. 10. 10. 10. 10. 10. 10. 10. 10. 10. 10. 10. 10. 10.\n",
      " 10. 10. 10. 10. 10. 10. 10. 10. 10. 10. 10. 10. 10. 10. 10. 10. 10. 10.\n",
      " 10. 10. 10. 10. 10. 10. 10. 10. 10. 10. 10. 10. 10. 10. 10. 10. 10. 10.\n",
      " 10. 10. 10. 10. 10. 10. 10. 10. 10. 10. 10. 10. 10. 10. 10. 10. 10. 10.\n",
      " 10. 10. 10. 10. 10. 10. 10. 10. 10. 10. 10. 10. 10. 10. 10. 10. 10. 10.\n",
      " 10. 10. 10. 10. 10. 10. 10. 10. 10. 10. 10. 10. 10. 10. 10. 10. 10. 10.\n",
      " 10. 10. 10. 10. 10. 10. 10. 10. 10. 10. 10. 10. 10. 10. 10. 10. 10. 10.\n",
      " 10. 10. 10. 10. 10. 10. 10. 10. 10. 10. 10. 10. 10. 10. 10. 10. 10. 10.\n",
      " 10. 10. 10. 10. 10. 10. 10. 10. 10. 10. 10. 10. 10. 10. 10. 10. 10. 10.\n",
      " 10. 10. 10. 10. 10. 10. 10. 10. 10. 10. 10. 10. 10. 10. 10. 10. 10. 10.\n",
      " 10. 10. 10. 10. 10. 10. 10. 10. 10. 10. 10. 10. 10. 10. 10. 10. 10. 10.\n",
      " 10. 10. 10. 10. 10. 10. 10. 10. 10. 10. 10. 10. 10. 10. 10. 10. 10. 10.\n",
      " 10. 10. 10. 10. 10. 10. 10. 10. 10. 10. 10. 10. 10. 10. 10. 10. 10. 10.\n",
      " 10. 10. 10. 10. 10. 10. 10. 10. 10. 10. 10. 10. 10. 10. 10. 10. 10. 10.\n",
      " 10. 10. 10. 10. 10. 10. 10. 10. 10. 10. 10. 10. 10. 10. 10. 10. 10. 10.\n",
      " 10. 10. 10. 10. 10. 10. 10. 10. 10. 10. 10. 10. 10. 10. 10. 10. 10. 10.\n",
      " 10. 10. 10. 10. 10. 10. 10. 10. 10. 10. 10. 10. 10. 10. 10. 10. 10. 10.\n",
      " 10. 10. 10. 10. 10. 10. 10. 10. 10. 10. 10. 10. 10. 10. 10. 10. 10. 10.\n",
      " 10. 10. 10. 10. 10. 10. 10. 10. 10. 10. 10. 10. 10. 10. 10. 10. 10. 10.\n",
      " 10. 10. 10. 10. 10. 10. 10. 10. 10. 10. 10. 10. 10. 10. 10. 10. 10. 10.\n",
      " 10. 10. 10. 10. 10. 10. 10. 10. 10. 10. 10. 10. 10. 10. 10. 10. 10. 10.\n",
      " 10. 10. 10. 10. 10. 10. 10. 10. 10. 10. 10. 10. 10. 10. 10. 10. 10. 10.\n",
      " 10. 10. 10. 10. 10. 10. 10. 10. 10. 10. 10. 10. 10. 10. 10. 10. 10. 10.\n",
      " 10. 10. 10. 10. 10. 10. 10. 10. 10. 10. 10. 10. 10. 10. 10. 10. 10. 10.\n",
      " 10. 10. 10. 10. 10. 10. 10. 10. 10. 10. 10. 10. 10. 10. 10. 10. 10. 10.\n",
      " 10. 10. 10. 10. 10. 10. 10. 10. 10. 10. 10. 10. 10. 10. 10. 10. 10. 10.\n",
      " 10. 10. 10. 10. 10. 10. 10. 10. 10. 10. 10. 10. 10. 10. 10. 10. 10. 10.\n",
      " 10. 10. 10. 10. 10. 10. 10. 10. 10. 10. 10. 10. 10. 10. 10. 10. 10. 10.\n",
      " 10. 10. 10. 10. 10. 10. 10. 10. 10. 10. 10. 10. 10. 10. 10. 10. 10. 10.\n",
      " 10. 10. 10. 10. 10. 10. 10. 10. 10. 10. 10. 10. 10. 10. 10. 10. 10. 10.\n",
      " 10. 10. 10. 10. 10. 10. 10. 10. 10. 10. 10. 10. 10. 10. 10. 10. 10. 10.\n",
      " 10. 10. 10. 10. 10. 10. 10. 10. 10. 10. 10. 10. 10. 10. 10. 10. 10. 10.\n",
      " 10. 10. 10. 10. 10. 10. 10. 10. 10. 10. 10. 10. 10. 10. 10. 10. 10. 10.\n",
      " 10. 10. 10. 10. 10. 10. 10. 10. 10. 10. 10. 10. 10. 10. 10. 10. 10. 10.\n",
      " 10. 10. 10. 10. 10. 10. 10. 10. 10. 10. 10. 10. 10. 10. 10. 10. 10. 10.\n",
      " 10. 10. 10. 10. 10. 10. 10. 10. 10. 10. 10. 10. 10. 10. 10. 10. 10. 10.\n",
      " 10. 10. 10. 10. 10. 10. 10. 10. 10. 10. 10. 10. 10. 10. 10. 10. 10. 10.\n",
      " 10. 10. 10. 10. 10. 10. 10. 10. 10. 10. 10. 10. 10. 10. 10. 10. 10. 10.\n",
      " 10. 10. 10. 10. 10. 10. 10. 10. 10. 10. 10. 10. 10. 10. 10. 10. 10. 10.\n",
      " 10. 10. 10. 10. 10. 10. 10. 10. 10. 10. 10. 10. 10. 10. 10. 10. 10. 10.\n",
      " 10. 10. 10. 10. 10. 10. 10. 10. 10. 10. 10. 10. 10. 10. 10. 10. 10. 10.\n",
      " 10. 10. 10. 10. 10. 10. 10. 10. 10. 10. 10. 10. 10. 10. 10. 10. 10. 10.\n",
      " 10. 10. 10. 10. 10. 10. 10. 10. 10. 10. 10. 10. 10. 10. 10. 10. 10. 10.\n",
      " 10. 10. 10. 10. 10. 10. 10. 10. 10. 10. 10. 10. 10. 10. 10. 10. 10. 10.\n",
      " 10. 10. 10. 10. 10. 10. 10. 10. 10. 10. 10. 10. 10. 10. 10. 10. 10. 10.\n",
      " 10. 10. 10. 10. 10. 10. 10. 10. 10. 10. 10. 10. 10. 10. 10. 10. 10. 10.\n",
      " 10. 10. 10. 10. 10. 10. 10. 10. 10. 10. 10. 10. 10. 10. 10. 10. 10. 10.\n",
      " 10. 10. 10. 10. 10. 10. 10. 10. 10. 10. 10. 10. 10. 10. 10. 10. 10. 10.\n",
      " 10. 10. 10. 10. 10. 10. 10. 10. 10. 10. 10. 10. 10. 10. 10. 10. 10. 10.\n",
      " 10. 10. 10. 10. 10. 10. 10. 10. 10. 10.]\n"
     ]
    }
   ],
   "source": [
    "print(A_MINS)"
   ]
  },
  {
   "cell_type": "code",
   "execution_count": 70,
   "metadata": {},
   "outputs": [],
   "source": [
    "def get_left_interval_bdry(a_min, chi_min, data_set, chi, a_step=0.01):\n",
    "    a_left = a_min\n",
    "    chi_left = chi_min\n",
    "    \n",
    "    while chi_left - chi_min < chi:\n",
    "        a_left -= a_step\n",
    "        chi_left =  get_chi_squared(data_set, get_expectation_series_of_f(a_left,  np.arange(1,11)))\n",
    "\n",
    "    return a_left\n",
    "\n",
    "def get_right_interval_bdry(a_min, chi_min, data_set, chi, a_step=0.01):\n",
    "    a_right = a_min\n",
    "    chi_right = chi_min\n",
    "    \n",
    "    while chi_right - chi_min < chi:\n",
    "        a_right += a_step\n",
    "        chi_right = get_chi_squared(data_set, get_expectation_series_of_f(a_right,  np.arange(1,11)))\n",
    "\n",
    "    return a_right\n",
    "\n",
    "def get_bounds(data_sets, a_mins, chi_mins, true_a=10):\n",
    "    \n",
    "    a_bounds_683 = np.zeros((data_sets.shape[0], 2)) # 68.3% confidence interval [.. (left, right) ..]\n",
    "    a_bounds_954 = np.zeros((data_sets.shape[0], 2)) # 95.4% confidence interval [.. (left, right) ..]\n",
    "    \n",
    "    for i, (a_min, chi_min) in enumerate(zip(a_mins, chi_mins)):\n",
    "        # Construct the left interval\n",
    "        a_bounds_683[i, 0] = get_left_interval_bdry(a_min, chi_min, data_sets[i], 1) \n",
    "        a_bounds_954[i, 0] = get_left_interval_bdry(a_min, chi_min, data_sets[i], 4) \n",
    "        \n",
    "        # Construct the right interval\n",
    "        a_bounds_683[i, 1] = get_right_interval_bdry(a_min, chi_min, data_sets[i], 1)\n",
    "        a_bounds_954[i, 1] = get_right_interval_bdry(a_min, chi_min, data_sets[i], 4)\n",
    "        \n",
    "    return a_bounds_683, a_bounds_954\n",
    "    \n",
    "BOUNDS_683, BOUNDS_954 = get_bounds(DATA_SETS, A_MINS, CHI_MINS)"
   ]
  },
  {
   "cell_type": "code",
   "execution_count": 71,
   "metadata": {},
   "outputs": [],
   "source": [
    "def get_n_bounds_covering_a(bounds, true_a=10):\n",
    "    n_bounds = 0\n",
    "\n",
    "    for [left, right] in bounds:\n",
    "        n_bounds += (true_a > left and true_a < right)\n",
    "        \n",
    "    return n_bounds\n",
    "\n",
    "COVERS_683 = get_n_bounds_covering_a(BOUNDS_683)\n",
    "COVERS_954 = get_n_bounds_covering_a(BOUNDS_954)\n",
    "     "
   ]
  },
  {
   "cell_type": "code",
   "execution_count": 74,
   "metadata": {},
   "outputs": [
    {
     "name": "stdout",
     "output_type": "stream",
     "text": [
      "The 68.3 bound covers the true value of a in 67% of the cases.\n",
      "The 95.4 bound covers the true value of a in 95% of the cases.\n"
     ]
    }
   ],
   "source": [
    "print (\"The 68.3 bound covers the true value of a in {0:.0%} of the cases.\".format(COVERS_683))\n",
    "print (\"The 95.4 bound covers the true value of a in {0:.0%} of the cases.\".format(COVERS_954))"
   ]
  },
  {
   "cell_type": "code",
   "execution_count": null,
   "metadata": {},
   "outputs": [],
   "source": []
  }
 ],
 "metadata": {
  "kernelspec": {
   "display_name": "Python 3",
   "language": "python",
   "name": "python3"
  },
  "language_info": {
   "codemirror_mode": {
    "name": "ipython",
    "version": 2
   },
   "file_extension": ".py",
   "mimetype": "text/x-python",
   "name": "python",
   "nbconvert_exporter": "python",
   "pygments_lexer": "ipython2",
   "version": "2.7.15"
  }
 },
 "nbformat": 4,
 "nbformat_minor": 2
}
